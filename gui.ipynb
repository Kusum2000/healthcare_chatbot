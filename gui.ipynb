{
 "cells": [
  {
   "cell_type": "code",
   "execution_count": 1,
   "id": "0520b39f-31af-4614-9e97-e35145967862",
   "metadata": {},
   "outputs": [],
   "source": [
    "from tkinter import *\n",
    "from keras.models import load_model\n",
    "import nltk\n",
    "from nltk.stem import WordNetLemmatizer\n",
    "lemmatizer = WordNetLemmatizer()\n",
    "import json\n",
    "import pickle\n",
    "import random\n",
    "import numpy as np"
   ]
  },
  {
   "cell_type": "code",
   "execution_count": 2,
   "id": "07d43316-67c9-4de1-909d-88d8d118e5a3",
   "metadata": {},
   "outputs": [],
   "source": [
    "intents = json.loads(open('intents.json').read())\n",
    "model = load_model('chatbot_model.h5')\n",
    "words = pickle.load(open('words.pkl', 'rb'))\n",
    "classes = pickle.load(open('classes.pkl', 'rb'))"
   ]
  },
  {
   "cell_type": "code",
   "execution_count": 5,
   "id": "edae66ab-bff0-4466-96b3-ece2e6225c08",
   "metadata": {},
   "outputs": [],
   "source": [
    "def bow(sentence):\n",
    "\tsentence_words = nltk.word_tokenize(sentence)\n",
    "\tsentence_words = [lemmatizer.lemmatize(word.lower()) for word in sentence_words]\n",
    "\tbag = [0]*len(words)\n",
    "\tfor s in sentence_words:\n",
    "\t\tfor i, w in enumerate(words):\n",
    "\t\t\tif w == s:\n",
    "\t\t\t\tbag[i]=1\n",
    "\treturn (np.array(bag))\n",
    "\n",
    "def predict_class(sentence):\n",
    "\tsentence_bag = bow(sentence)\n",
    "\tres = model.predict(np.array([sentence_bag]))[0]\n",
    "\tERROR_THRESHOLD = 0.25\n",
    "\tresults = [[i,r] for i,r in enumerate(res) if r > ERROR_THRESHOLD]\n",
    "\t#sort by probablity\n",
    "\tresults.sort(key=lambda x: x[1], reverse=True)\n",
    "\treturn_list = []\n",
    "\tfor r in results:\n",
    "\t\treturn_list.append({'intent':classes[r[0]], 'probablity':str(r[1])})\n",
    "\treturn return_list\n",
    "\n",
    "def getResponse(ints):\n",
    "\ttag = ints[0]['intent']\n",
    "\tlist_of_intents = intents['intents']\n",
    "\tfor i in list_of_intents:\n",
    "\t\tif(i['tag']==tag):\n",
    "\t\t\tresult=random.choice(i['responses'])\n",
    "\t\t\tbreak\n",
    "\n",
    "\treturn result\n",
    "\n",
    "def chatbot_response(msg):\n",
    "\tints = predict_class(msg)\n",
    "\tres = getResponse(ints)\n",
    "\treturn res\n",
    "\n",
    "def send():\n",
    "\tmsg = TextEntryBox.get(\"1.0\", 'end-1c').strip()\n",
    "\tTextEntryBox.delete('1.0', 'end')\n",
    "\n",
    "\tif msg != '':\n",
    "\t\tChatHistory.config(state=NORMAL)\n",
    "\t\tChatHistory.insert('end', \"You: \" + msg + \"\\n\\n\")\n",
    "\n",
    "\t\tres = chatbot_response(msg)\n",
    "\t\tChatHistory.insert('end', \"Bot: \" + res + \"\\n\\n\")\n",
    "\t\tChatHistory.config(state=DISABLED)\n",
    "\t\tChatHistory.yview('end')\n"
   ]
  },
  {
   "cell_type": "code",
   "execution_count": 13,
   "id": "83502d89-bbfe-49b6-a75d-6949ddf14878",
   "metadata": {},
   "outputs": [],
   "source": [
    "base = Tk()\n",
    "base.title(\"Alexa\")\n",
    "base.geometry(\"400x500\")\n",
    "base.resizable(width=False, height=False)\n",
    "\n",
    "#chat history textview\n",
    "ChatHistory = Text(base, bd=0, bg='white', font='Arial')\n",
    "ChatHistory.config(state=DISABLED)\n",
    "\n",
    "SendButton = Button(base, font=('Arial', 12, 'bold'), \n",
    "\ttext=\"Send\", bg=\"#dfdfdf\", activebackground=\"#3e3e3e\", fg=\"#ffffff\", command=send)\n",
    "\n",
    "TextEntryBox = Text(base, bd=0, bg='white', font='Arial')\n",
    "\n",
    "ChatHistory.place(x=6, y=6, height=386, width=386)\n",
    "TextEntryBox.place(x=128, y=400, height=80, width=265)\n",
    "SendButton.place(x=6, y=400, height=80, width=125)\n",
    "\n"
   ]
  },
  {
   "cell_type": "code",
   "execution_count": 14,
   "id": "654e0fe7-b9d9-4784-8a8b-183b55e18e5d",
   "metadata": {},
   "outputs": [],
   "source": [
    "base.mainloop()"
   ]
  },
  {
   "cell_type": "code",
   "execution_count": null,
   "id": "fbda0999-a488-4e69-a1a5-7a1e0d8aba70",
   "metadata": {},
   "outputs": [],
   "source": []
  }
 ],
 "metadata": {
  "kernelspec": {
   "display_name": "Python 3 (ipykernel)",
   "language": "python",
   "name": "python3"
  },
  "language_info": {
   "codemirror_mode": {
    "name": "ipython",
    "version": 3
   },
   "file_extension": ".py",
   "mimetype": "text/x-python",
   "name": "python",
   "nbconvert_exporter": "python",
   "pygments_lexer": "ipython3",
   "version": "3.8.12"
  }
 },
 "nbformat": 4,
 "nbformat_minor": 5
}
